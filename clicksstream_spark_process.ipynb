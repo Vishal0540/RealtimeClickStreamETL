{
 "cells": [
  {
   "cell_type": "markdown",
   "metadata": {
    "application/vnd.databricks.v1+cell": {
     "cellMetadata": {
      "byteLimit": 2048000,
      "rowLimit": 10000
     },
     "inputWidgets": {},
     "nuid": "2661c7de-0914-449a-a000-1ccc574fd014",
     "showTitle": false,
     "title": ""
    }
   },
   "source": [
    "### Connecting spark to cassandra"
   ]
  },
  {
   "cell_type": "code",
   "execution_count": 0,
   "metadata": {
    "application/vnd.databricks.v1+cell": {
     "cellMetadata": {
      "byteLimit": 2048000,
      "rowLimit": 10000
     },
     "inputWidgets": {},
     "nuid": "3bffa35a-c21c-48a4-8aee-255473f89fe1",
     "showTitle": false,
     "title": ""
    }
   },
   "outputs": [
    {
     "output_type": "stream",
     "name": "stdout",
     "output_type": "stream",
     "text": [
      "+--------------------+-------+-----------------+--------------------+--------------------+----------------+--------------------+--------------------+---------------+\n|             row_key|browser|             city|             country|              device|              os|           timestamp|                 url|        user_id|\n+--------------------+-------+-----------------+--------------------+--------------------+----------------+--------------------+--------------------+---------------+\n|f7c6cc1f-addf-5ca...|Mozilla|       Davisshire|              Jersey|X11; Linux x86_64...| Safari/532.12.2|2023-07-22 16:05:...|https://www.examp...|      bridget40|\n|e61bb684-eff3-526...|Mozilla|       Michaelton|              Serbia|   KHTML, like Gecko|   Version/10.00|2023-07-22 16:05:...|https://www.examp...|       xproctor|\n|521e27d5-17cd-5e7...|Mozilla|      Josephville|    French Polynesia|   KHTML, like Gecko|Safari/6534.39.6|2023-07-22 16:06:...|https://www.examp...|    miguelrojas|\n|42e3d21b-158c-55b...|Mozilla|West Williamshire|             Liberia|compatible; MSIE ...|  Safari/532.5.1|2023-07-22 16:06:...|https://www.examp...|    katherine01|\n|99b2e22f-f07e-50a...|Mozilla|      New Natasha|       Liechtenstein|compatible; MSIE ...|    Trident/4.0)|2023-07-22 15:58:...|https://www.examp...|    smithrachel|\n|2465154f-03fb-5b9...|Mozilla|        Myerstown|             Estonia|Windows NT 5.2; e...| Safari/533.27.7|2023-07-22 15:57:...|https://www.examp...|        jason14|\n|748145d9-732a-58e...|Mozilla|        Myerstown|             Estonia|compatible; MSIE ...|    Trident/4.1)|2023-07-22 15:57:...|https://www.examp...|        jason14|\n|ebceeebc-837c-5f1...|Mozilla|       Prattville|                Fiji|   KHTML, like Gecko|    Trident/4.0)|2023-07-22 00:39:...|https://www.examp...|          ocruz|\n|38761a21-5993-57a...|Mozilla|        Rosshaven|             Austria|   KHTML, like Gecko|    Safari/533.1|2023-07-22 16:05:...|https://www.examp...|      vanessa28|\n|4f5f9890-d874-5e2...|Mozilla|        Rosshaven|             Austria|compatible; MSIE ...| Safari/6533.3.1|2023-07-22 16:05:...|https://www.examp...|      vanessa28|\n|7000c9f0-4089-523...|Mozilla|West Williamshire|             Liberia|   KHTML, like Gecko|    Safari/534.2|2023-07-22 16:06:...|https://www.examp...|    katherine01|\n|47d9aea6-3ecc-57d...|  Opera|      New Katrina|             Burundi|X11; Linux i686; ...|    Firefox/10.0|2023-07-22 16:05:...|https://www.examp...|         todd96|\n|9dab597a-f9eb-595...|Mozilla|     West Matthew|             Iceland|X11; Linux x86_64...|   Version/10.00|2023-07-22 16:06:...|https://www.examp...|zimmermansharon|\n|bf0c6d6a-170a-55a...|  Opera|       Vaughnstad|             Reunion|   KHTML, like Gecko| Safari/6531.9.1|2023-07-22 16:04:...|https://www.examp...|   johnpeterson|\n|fe6fae4d-ebbd-5ab...|Mozilla|       Porterside|              Taiwan|   KHTML, like Gecko|   Firefox/3.6.4|2023-07-22 16:05:...|https://www.examp...|         fsmith|\n|4f3b75c3-942c-5d6...|Mozilla|      East Ariana|       Faroe Islands|X11; Linux i686; ...|Safari/6534.22.2|2023-07-22 16:05:...|https://www.examp...|     nicholas84|\n|3cf3ebf7-8f37-56d...|Mozilla|    Martinchester|                Peru|   KHTML, like Gecko|   Version/12.00|2023-07-22 00:39:...|https://www.examp...|        james48|\n|85425f2d-b974-5c2...|  Opera|South Charlesside|              Norway|compatible; MSIE ...|     Firefox/6.0|2023-07-22 00:39:...|https://www.examp...| meganrodriguez|\n|57386cd9-149e-590...|Mozilla|    Port Savannah|Northern Mariana ...|Windows 98; mag-I...|    Safari/532.0|2023-07-22 16:06:...|https://www.examp...|      melissa94|\n|eb079936-5232-5a9...|Mozilla|      New Theresa|          San Marino|   KHTML, like Gecko|    Trident/4.0)|2023-07-22 15:57:...|https://www.examp...| brandonproctor|\n+--------------------+-------+-----------------+--------------------+--------------------+----------------+--------------------+--------------------+---------------+\nonly showing top 20 rows\n\n132\n"
     ]
    }
   ],
   "source": [
    "\n",
    "from pyspark.sql import SparkSession\n",
    "from pyspark.sql import functions as F\n",
    "\n",
    "\n",
    "cosmosdb_contact_point = 'host'\n",
    "cosmosdb_port = '10350'\n",
    "cosmosdb_username = 'username'\n",
    "cosmosdb_password = 'pass'\n",
    "cosmosdb_keyspace = 'clickstream'\n",
    "\n",
    "# Create the SparkSession with Cassandra configuration\n",
    "spark = SparkSession.builder \\\n",
    "    .appName(\"Cassandra Spark Connector Example\") \\\n",
    "    .config(\"spark.cassandra.connection.host\", cosmosdb_contact_point) \\\n",
    "    .config(\"spark.cassandra.auth.username\", cosmosdb_username) \\\n",
    "    .config(\"spark.cassandra.auth.password\", cosmosdb_password) \\\n",
    "    .config(\"spark.cassandra.connection.port\", 10350) \\\n",
    "    .config(\"spark.cassandra.connection.ssl.enabled\", \"true\") \\\n",
    "    .getOrCreate()\n",
    "\n",
    "# Read data from Cassandra table into DataFrame\n",
    "df = spark.read\\\n",
    "    .format(\"org.apache.spark.sql.cassandra\") \\\n",
    "    .options(table=\"clickstream_events\", keyspace=cosmosdb_keyspace) \\\n",
    "    .load()\n",
    "\n",
    "# Show the data\n",
    "df.show()\n",
    "\n"
   ]
  },
  {
   "cell_type": "markdown",
   "metadata": {
    "application/vnd.databricks.v1+cell": {
     "cellMetadata": {
      "byteLimit": 2048000,
      "rowLimit": 10000
     },
     "inputWidgets": {},
     "nuid": "1a9f3b77-1a59-45a7-b20a-3c535bb5ae52",
     "showTitle": false,
     "title": ""
    }
   },
   "source": [
    "##Group by \"URL\" and \"country\" and calculate the count of unique users"
   ]
  },
  {
   "cell_type": "code",
   "execution_count": 0,
   "metadata": {
    "application/vnd.databricks.v1+cell": {
     "cellMetadata": {
      "byteLimit": 2048000,
      "rowLimit": 10000
     },
     "inputWidgets": {},
     "nuid": "2229a6df-e41f-47fe-8c90-1071a6888ae1",
     "showTitle": false,
     "title": ""
    }
   },
   "outputs": [
    {
     "output_type": "display_data",
     "data": {
      "text/html": [
       "<style scoped>\n",
       "  .table-result-container {\n",
       "    max-height: 300px;\n",
       "    overflow: auto;\n",
       "  }\n",
       "  table, th, td {\n",
       "    border: 1px solid black;\n",
       "    border-collapse: collapse;\n",
       "  }\n",
       "  th, td {\n",
       "    padding: 5px;\n",
       "  }\n",
       "  th {\n",
       "    text-align: left;\n",
       "  }\n",
       "</style><div class='table-result-container'><table class='table-result'><thead style='background-color: white'><tr><th>URL</th><th>country</th><th>unique_user_count</th></tr></thead><tbody><tr><td>https://www.example.com/</td><td>Jersey</td><td>2</td></tr><tr><td>https://www.example.com/contact</td><td>Jersey</td><td>2</td></tr><tr><td>https://www.example.com/services</td><td>Guinea</td><td>1</td></tr><tr><td>https://www.example.com/about</td><td>Vietnam</td><td>1</td></tr><tr><td>https://www.example.com/faq</td><td>Jersey</td><td>1</td></tr><tr><td>https://www.example.com/contact</td><td>Spain</td><td>1</td></tr><tr><td>https://www.example.com/faq</td><td>French Polynesia</td><td>1</td></tr><tr><td>https://www.example.com/products</td><td>Liechtenstein</td><td>1</td></tr><tr><td>https://www.example.com/faq</td><td>Italy</td><td>1</td></tr><tr><td>https://www.example.com/</td><td>Serbia</td><td>1</td></tr><tr><td>https://www.example.com/contact</td><td>Austria</td><td>1</td></tr><tr><td>https://www.example.com/</td><td>Liberia</td><td>1</td></tr><tr><td>https://www.example.com/</td><td>Finland</td><td>1</td></tr><tr><td>https://www.example.com/contact</td><td>Burundi</td><td>1</td></tr><tr><td>https://www.example.com/</td><td>Bahamas</td><td>1</td></tr><tr><td>https://www.example.com/blog</td><td>Northern Mariana Islands</td><td>1</td></tr><tr><td>https://www.example.com/pricing</td><td>Pitcairn Islands</td><td>1</td></tr><tr><td>https://www.example.com/products</td><td>Austria</td><td>1</td></tr><tr><td>https://www.example.com/faq</td><td>Burundi</td><td>1</td></tr><tr><td>https://www.example.com/services</td><td>Yemen</td><td>1</td></tr><tr><td>https://www.example.com/home</td><td>Northern Mariana Islands</td><td>1</td></tr><tr><td>https://www.example.com/contact</td><td>Japan</td><td>1</td></tr><tr><td>https://www.example.com/login</td><td>Puerto Rico</td><td>1</td></tr><tr><td>https://www.example.com/about</td><td>Mauritius</td><td>1</td></tr><tr><td>https://www.example.com/blog</td><td>French Polynesia</td><td>1</td></tr><tr><td>https://www.example.com/login</td><td>Bosnia and Herzegovina</td><td>1</td></tr><tr><td>https://www.example.com/services</td><td>Puerto Rico</td><td>1</td></tr><tr><td>https://www.example.com/contact</td><td>Mozambique</td><td>1</td></tr><tr><td>https://www.example.com/blog</td><td>Central African Republic</td><td>1</td></tr><tr><td>https://www.example.com/home</td><td>Serbia</td><td>1</td></tr><tr><td>https://www.example.com/products</td><td>Suriname</td><td>1</td></tr><tr><td>https://www.example.com/products</td><td>Liberia</td><td>1</td></tr><tr><td>https://www.example.com/blog</td><td>Cyprus</td><td>1</td></tr><tr><td>https://www.example.com/blog</td><td>Reunion</td><td>1</td></tr><tr><td>https://www.example.com/pricing</td><td>Heard Island and McDonald Islands</td><td>1</td></tr><tr><td>https://www.example.com/services</td><td>Austria</td><td>1</td></tr><tr><td>https://www.example.com/services</td><td>Northern Mariana Islands</td><td>1</td></tr><tr><td>https://www.example.com/contact</td><td>San Marino</td><td>1</td></tr><tr><td>https://www.example.com/services</td><td>Liechtenstein</td><td>1</td></tr><tr><td>https://www.example.com/pricing</td><td>Taiwan</td><td>1</td></tr><tr><td>https://www.example.com/products</td><td>Ireland</td><td>1</td></tr><tr><td>https://www.example.com/login</td><td>Bahamas</td><td>1</td></tr><tr><td>https://www.example.com/blog</td><td>Israel</td><td>1</td></tr><tr><td>https://www.example.com/login</td><td>Japan</td><td>1</td></tr><tr><td>https://www.example.com/blog</td><td>Montserrat</td><td>1</td></tr><tr><td>https://www.example.com/contact</td><td>Sao Tome and Principe</td><td>1</td></tr><tr><td>https://www.example.com/about</td><td>Burundi</td><td>1</td></tr><tr><td>https://www.example.com/blog</td><td>Norway</td><td>1</td></tr><tr><td>https://www.example.com/</td><td>Japan</td><td>1</td></tr><tr><td>https://www.example.com/login</td><td>Seychelles</td><td>1</td></tr><tr><td>https://www.example.com/home</td><td>Austria</td><td>1</td></tr><tr><td>https://www.example.com/home</td><td>Panama</td><td>1</td></tr><tr><td>https://www.example.com/faq</td><td>Croatia</td><td>1</td></tr><tr><td>https://www.example.com/pricing</td><td>Reunion</td><td>1</td></tr><tr><td>https://www.example.com/blog</td><td>Peru</td><td>1</td></tr><tr><td>https://www.example.com/login</td><td>Thailand</td><td>1</td></tr><tr><td>https://www.example.com/services</td><td>Dominican Republic</td><td>1</td></tr><tr><td>https://www.example.com/services</td><td>Taiwan</td><td>1</td></tr><tr><td>https://www.example.com/about</td><td>Yemen</td><td>1</td></tr><tr><td>https://www.example.com/services</td><td>Bosnia and Herzegovina</td><td>1</td></tr><tr><td>https://www.example.com/login</td><td>Austria</td><td>1</td></tr><tr><td>https://www.example.com/</td><td>Cameroon</td><td>1</td></tr><tr><td>https://www.example.com/login</td><td>Cameroon</td><td>1</td></tr><tr><td>https://www.example.com/home</td><td>Taiwan</td><td>1</td></tr><tr><td>https://www.example.com/contact</td><td>Bahamas</td><td>1</td></tr><tr><td>https://www.example.com/blog</td><td>Taiwan</td><td>1</td></tr><tr><td>https://www.example.com/</td><td>Greece</td><td>1</td></tr><tr><td>https://www.example.com/contact</td><td>Estonia</td><td>1</td></tr><tr><td>https://www.example.com/blog</td><td>Iceland</td><td>1</td></tr><tr><td>https://www.example.com/products</td><td>Cyprus</td><td>1</td></tr><tr><td>https://www.example.com/</td><td>Cyprus</td><td>1</td></tr><tr><td>https://www.example.com/home</td><td>Saudi Arabia</td><td>1</td></tr><tr><td>https://www.example.com/about</td><td>Iceland</td><td>1</td></tr><tr><td>https://www.example.com/contact</td><td>Serbia</td><td>1</td></tr><tr><td>https://www.example.com/blog</td><td>Croatia</td><td>1</td></tr><tr><td>https://www.example.com/home</td><td>Mexico</td><td>1</td></tr><tr><td>https://www.example.com/about</td><td>Spain</td><td>1</td></tr><tr><td>https://www.example.com/about</td><td>Serbia</td><td>1</td></tr><tr><td>https://www.example.com/blog</td><td>Burundi</td><td>1</td></tr><tr><td>https://www.example.com/login</td><td>Cayman Islands</td><td>1</td></tr><tr><td>https://www.example.com/home</td><td>Burundi</td><td>1</td></tr><tr><td>https://www.example.com/home</td><td>Liechtenstein</td><td>1</td></tr><tr><td>https://www.example.com/about</td><td>Guinea</td><td>1</td></tr><tr><td>https://www.example.com/login</td><td>Libyan Arab Jamahiriya</td><td>1</td></tr><tr><td>https://www.example.com/faq</td><td>Guatemala</td><td>1</td></tr><tr><td>https://www.example.com/pricing</td><td>Faroe Islands</td><td>1</td></tr><tr><td>https://www.example.com/blog</td><td>Cape Verde</td><td>1</td></tr><tr><td>https://www.example.com/contact</td><td>Bosnia and Herzegovina</td><td>1</td></tr><tr><td>https://www.example.com/home</td><td>Liberia</td><td>1</td></tr><tr><td>https://www.example.com/home</td><td>Cameroon</td><td>1</td></tr><tr><td>https://www.example.com/faq</td><td>Andorra</td><td>1</td></tr><tr><td>https://www.example.com/products</td><td>Estonia</td><td>1</td></tr><tr><td>https://www.example.com/faq</td><td>Guinea</td><td>1</td></tr><tr><td>https://www.example.com/about</td><td>Liberia</td><td>1</td></tr><tr><td>https://www.example.com/about</td><td>Estonia</td><td>1</td></tr><tr><td>https://www.example.com/about</td><td>San Marino</td><td>1</td></tr><tr><td>https://www.example.com/pricing</td><td>Austria</td><td>1</td></tr><tr><td>https://www.example.com/home</td><td>Yemen</td><td>1</td></tr><tr><td>https://www.example.com/pricing</td><td>San Marino</td><td>1</td></tr><tr><td>https://www.example.com/contact</td><td>Taiwan</td><td>1</td></tr><tr><td>https://www.example.com/home</td><td>Mauritius</td><td>1</td></tr><tr><td>https://www.example.com/</td><td>Fiji</td><td>1</td></tr><tr><td>https://www.example.com/pricing</td><td>Liberia</td><td>1</td></tr><tr><td>https://www.example.com/contact</td><td>Iceland</td><td>1</td></tr><tr><td>https://www.example.com/about</td><td>Ireland</td><td>1</td></tr><tr><td>https://www.example.com/about</td><td>Northern Mariana Islands</td><td>1</td></tr><tr><td>https://www.example.com/pricing</td><td>Burundi</td><td>1</td></tr><tr><td>https://www.example.com/about</td><td>Norway</td><td>1</td></tr><tr><td>https://www.example.com/blog</td><td>Mauritius</td><td>1</td></tr><tr><td>https://www.example.com/faq</td><td>Cape Verde</td><td>1</td></tr><tr><td>https://www.example.com/pricing</td><td>Jersey</td><td>1</td></tr><tr><td>https://www.example.com/login</td><td>Haiti</td><td>1</td></tr><tr><td>https://www.example.com/about</td><td>Isle of Man</td><td>1</td></tr><tr><td>https://www.example.com/services</td><td>Guadeloupe</td><td>1</td></tr><tr><td>https://www.example.com/</td><td>Dominican Republic</td><td>1</td></tr><tr><td>https://www.example.com/blog</td><td>Puerto Rico</td><td>1</td></tr><tr><td>https://www.example.com/about</td><td>Cyprus</td><td>1</td></tr><tr><td>https://www.example.com/login</td><td>Iceland</td><td>1</td></tr><tr><td>https://www.example.com/products</td><td>Dominican Republic</td><td>1</td></tr><tr><td>https://www.example.com/faq</td><td>Estonia</td><td>1</td></tr><tr><td>https://www.example.com/contact</td><td>Sierra Leone</td><td>1</td></tr><tr><td>https://www.example.com/about</td><td>Austria</td><td>1</td></tr></tbody></table></div>"
      ]
     },
     "metadata": {
      "application/vnd.databricks.v1+output": {
       "addedWidgets": {},
       "aggData": [],
       "aggError": "",
       "aggOverflow": false,
       "aggSchema": [],
       "aggSeriesLimitReached": false,
       "aggType": "",
       "arguments": {},
       "columnCustomDisplayInfos": {},
       "data": [
        [
         "https://www.example.com/",
         "Jersey",
         2
        ],
        [
         "https://www.example.com/contact",
         "Jersey",
         2
        ],
        [
         "https://www.example.com/services",
         "Guinea",
         1
        ],
        [
         "https://www.example.com/about",
         "Vietnam",
         1
        ],
        [
         "https://www.example.com/faq",
         "Jersey",
         1
        ],
        [
         "https://www.example.com/contact",
         "Spain",
         1
        ],
        [
         "https://www.example.com/faq",
         "French Polynesia",
         1
        ],
        [
         "https://www.example.com/products",
         "Liechtenstein",
         1
        ],
        [
         "https://www.example.com/faq",
         "Italy",
         1
        ],
        [
         "https://www.example.com/",
         "Serbia",
         1
        ],
        [
         "https://www.example.com/contact",
         "Austria",
         1
        ],
        [
         "https://www.example.com/",
         "Liberia",
         1
        ],
        [
         "https://www.example.com/",
         "Finland",
         1
        ],
        [
         "https://www.example.com/contact",
         "Burundi",
         1
        ],
        [
         "https://www.example.com/",
         "Bahamas",
         1
        ],
        [
         "https://www.example.com/blog",
         "Northern Mariana Islands",
         1
        ],
        [
         "https://www.example.com/pricing",
         "Pitcairn Islands",
         1
        ],
        [
         "https://www.example.com/products",
         "Austria",
         1
        ],
        [
         "https://www.example.com/faq",
         "Burundi",
         1
        ],
        [
         "https://www.example.com/services",
         "Yemen",
         1
        ],
        [
         "https://www.example.com/home",
         "Northern Mariana Islands",
         1
        ],
        [
         "https://www.example.com/contact",
         "Japan",
         1
        ],
        [
         "https://www.example.com/login",
         "Puerto Rico",
         1
        ],
        [
         "https://www.example.com/about",
         "Mauritius",
         1
        ],
        [
         "https://www.example.com/blog",
         "French Polynesia",
         1
        ],
        [
         "https://www.example.com/login",
         "Bosnia and Herzegovina",
         1
        ],
        [
         "https://www.example.com/services",
         "Puerto Rico",
         1
        ],
        [
         "https://www.example.com/contact",
         "Mozambique",
         1
        ],
        [
         "https://www.example.com/blog",
         "Central African Republic",
         1
        ],
        [
         "https://www.example.com/home",
         "Serbia",
         1
        ],
        [
         "https://www.example.com/products",
         "Suriname",
         1
        ],
        [
         "https://www.example.com/products",
         "Liberia",
         1
        ],
        [
         "https://www.example.com/blog",
         "Cyprus",
         1
        ],
        [
         "https://www.example.com/blog",
         "Reunion",
         1
        ],
        [
         "https://www.example.com/pricing",
         "Heard Island and McDonald Islands",
         1
        ],
        [
         "https://www.example.com/services",
         "Austria",
         1
        ],
        [
         "https://www.example.com/services",
         "Northern Mariana Islands",
         1
        ],
        [
         "https://www.example.com/contact",
         "San Marino",
         1
        ],
        [
         "https://www.example.com/services",
         "Liechtenstein",
         1
        ],
        [
         "https://www.example.com/pricing",
         "Taiwan",
         1
        ],
        [
         "https://www.example.com/products",
         "Ireland",
         1
        ],
        [
         "https://www.example.com/login",
         "Bahamas",
         1
        ],
        [
         "https://www.example.com/blog",
         "Israel",
         1
        ],
        [
         "https://www.example.com/login",
         "Japan",
         1
        ],
        [
         "https://www.example.com/blog",
         "Montserrat",
         1
        ],
        [
         "https://www.example.com/contact",
         "Sao Tome and Principe",
         1
        ],
        [
         "https://www.example.com/about",
         "Burundi",
         1
        ],
        [
         "https://www.example.com/blog",
         "Norway",
         1
        ],
        [
         "https://www.example.com/",
         "Japan",
         1
        ],
        [
         "https://www.example.com/login",
         "Seychelles",
         1
        ],
        [
         "https://www.example.com/home",
         "Austria",
         1
        ],
        [
         "https://www.example.com/home",
         "Panama",
         1
        ],
        [
         "https://www.example.com/faq",
         "Croatia",
         1
        ],
        [
         "https://www.example.com/pricing",
         "Reunion",
         1
        ],
        [
         "https://www.example.com/blog",
         "Peru",
         1
        ],
        [
         "https://www.example.com/login",
         "Thailand",
         1
        ],
        [
         "https://www.example.com/services",
         "Dominican Republic",
         1
        ],
        [
         "https://www.example.com/services",
         "Taiwan",
         1
        ],
        [
         "https://www.example.com/about",
         "Yemen",
         1
        ],
        [
         "https://www.example.com/services",
         "Bosnia and Herzegovina",
         1
        ],
        [
         "https://www.example.com/login",
         "Austria",
         1
        ],
        [
         "https://www.example.com/",
         "Cameroon",
         1
        ],
        [
         "https://www.example.com/login",
         "Cameroon",
         1
        ],
        [
         "https://www.example.com/home",
         "Taiwan",
         1
        ],
        [
         "https://www.example.com/contact",
         "Bahamas",
         1
        ],
        [
         "https://www.example.com/blog",
         "Taiwan",
         1
        ],
        [
         "https://www.example.com/",
         "Greece",
         1
        ],
        [
         "https://www.example.com/contact",
         "Estonia",
         1
        ],
        [
         "https://www.example.com/blog",
         "Iceland",
         1
        ],
        [
         "https://www.example.com/products",
         "Cyprus",
         1
        ],
        [
         "https://www.example.com/",
         "Cyprus",
         1
        ],
        [
         "https://www.example.com/home",
         "Saudi Arabia",
         1
        ],
        [
         "https://www.example.com/about",
         "Iceland",
         1
        ],
        [
         "https://www.example.com/contact",
         "Serbia",
         1
        ],
        [
         "https://www.example.com/blog",
         "Croatia",
         1
        ],
        [
         "https://www.example.com/home",
         "Mexico",
         1
        ],
        [
         "https://www.example.com/about",
         "Spain",
         1
        ],
        [
         "https://www.example.com/about",
         "Serbia",
         1
        ],
        [
         "https://www.example.com/blog",
         "Burundi",
         1
        ],
        [
         "https://www.example.com/login",
         "Cayman Islands",
         1
        ],
        [
         "https://www.example.com/home",
         "Burundi",
         1
        ],
        [
         "https://www.example.com/home",
         "Liechtenstein",
         1
        ],
        [
         "https://www.example.com/about",
         "Guinea",
         1
        ],
        [
         "https://www.example.com/login",
         "Libyan Arab Jamahiriya",
         1
        ],
        [
         "https://www.example.com/faq",
         "Guatemala",
         1
        ],
        [
         "https://www.example.com/pricing",
         "Faroe Islands",
         1
        ],
        [
         "https://www.example.com/blog",
         "Cape Verde",
         1
        ],
        [
         "https://www.example.com/contact",
         "Bosnia and Herzegovina",
         1
        ],
        [
         "https://www.example.com/home",
         "Liberia",
         1
        ],
        [
         "https://www.example.com/home",
         "Cameroon",
         1
        ],
        [
         "https://www.example.com/faq",
         "Andorra",
         1
        ],
        [
         "https://www.example.com/products",
         "Estonia",
         1
        ],
        [
         "https://www.example.com/faq",
         "Guinea",
         1
        ],
        [
         "https://www.example.com/about",
         "Liberia",
         1
        ],
        [
         "https://www.example.com/about",
         "Estonia",
         1
        ],
        [
         "https://www.example.com/about",
         "San Marino",
         1
        ],
        [
         "https://www.example.com/pricing",
         "Austria",
         1
        ],
        [
         "https://www.example.com/home",
         "Yemen",
         1
        ],
        [
         "https://www.example.com/pricing",
         "San Marino",
         1
        ],
        [
         "https://www.example.com/contact",
         "Taiwan",
         1
        ],
        [
         "https://www.example.com/home",
         "Mauritius",
         1
        ],
        [
         "https://www.example.com/",
         "Fiji",
         1
        ],
        [
         "https://www.example.com/pricing",
         "Liberia",
         1
        ],
        [
         "https://www.example.com/contact",
         "Iceland",
         1
        ],
        [
         "https://www.example.com/about",
         "Ireland",
         1
        ],
        [
         "https://www.example.com/about",
         "Northern Mariana Islands",
         1
        ],
        [
         "https://www.example.com/pricing",
         "Burundi",
         1
        ],
        [
         "https://www.example.com/about",
         "Norway",
         1
        ],
        [
         "https://www.example.com/blog",
         "Mauritius",
         1
        ],
        [
         "https://www.example.com/faq",
         "Cape Verde",
         1
        ],
        [
         "https://www.example.com/pricing",
         "Jersey",
         1
        ],
        [
         "https://www.example.com/login",
         "Haiti",
         1
        ],
        [
         "https://www.example.com/about",
         "Isle of Man",
         1
        ],
        [
         "https://www.example.com/services",
         "Guadeloupe",
         1
        ],
        [
         "https://www.example.com/",
         "Dominican Republic",
         1
        ],
        [
         "https://www.example.com/blog",
         "Puerto Rico",
         1
        ],
        [
         "https://www.example.com/about",
         "Cyprus",
         1
        ],
        [
         "https://www.example.com/login",
         "Iceland",
         1
        ],
        [
         "https://www.example.com/products",
         "Dominican Republic",
         1
        ],
        [
         "https://www.example.com/faq",
         "Estonia",
         1
        ],
        [
         "https://www.example.com/contact",
         "Sierra Leone",
         1
        ],
        [
         "https://www.example.com/about",
         "Austria",
         1
        ]
       ],
       "datasetInfos": [],
       "dbfsResultPath": null,
       "isJsonSchema": true,
       "metadata": {},
       "overflow": false,
       "plotOptions": {
        "customPlotOptions": {},
        "displayType": "table",
        "pivotAggregation": null,
        "pivotColumns": null,
        "xColumns": null,
        "yColumns": null
       },
       "removedWidgets": [],
       "schema": [
        {
         "metadata": "{}",
         "name": "URL",
         "type": "\"string\""
        },
        {
         "metadata": "{}",
         "name": "country",
         "type": "\"string\""
        },
        {
         "metadata": "{}",
         "name": "unique_user_count",
         "type": "\"long\""
        }
       ],
       "type": "table"
      }
     },
     "output_type": "display_data"
    }
   ],
   "source": [
    "unique_user_df = df.groupBy(\"URL\" , \"country\").agg(F.countDistinct(\"user_id\").alias(\"unique_user_count\")).orderBy(F.desc(\"unique_user_count\"))\n",
    "display(unique_user_df)"
   ]
  },
  {
   "cell_type": "code",
   "execution_count": 0,
   "metadata": {
    "application/vnd.databricks.v1+cell": {
     "cellMetadata": {
      "byteLimit": 2048000,
      "rowLimit": 10000
     },
     "inputWidgets": {},
     "nuid": "b331ed5a-80ec-4ca2-9ede-ea6250a01e7c",
     "showTitle": false,
     "title": ""
    }
   },
   "outputs": [
    {
     "output_type": "display_data",
     "data": {
      "text/html": [
       "<style scoped>\n",
       "  .table-result-container {\n",
       "    max-height: 300px;\n",
       "    overflow: auto;\n",
       "  }\n",
       "  table, th, td {\n",
       "    border: 1px solid black;\n",
       "    border-collapse: collapse;\n",
       "  }\n",
       "  th, td {\n",
       "    padding: 5px;\n",
       "  }\n",
       "  th {\n",
       "    text-align: left;\n",
       "  }\n",
       "</style><div class='table-result-container'><table class='table-result'><thead style='background-color: white'><tr><th>URL</th><th>country</th><th>average_time_spent</th></tr></thead><tbody><tr><td>https://www.example.com/faq</td><td>Jersey</td><td>11.0</td></tr><tr><td>https://www.example.com/faq</td><td>French Polynesia</td><td>13.0</td></tr><tr><td>https://www.example.com/faq</td><td>Italy</td><td>17.0</td></tr><tr><td>https://www.example.com/</td><td>Serbia</td><td>3.0</td></tr><tr><td>https://www.example.com/contact</td><td>Austria</td><td>1.0</td></tr><tr><td>https://www.example.com/</td><td>Liberia</td><td>15.0</td></tr><tr><td>https://www.example.com/</td><td>Jersey</td><td>26.0</td></tr><tr><td>https://www.example.com/contact</td><td>Burundi</td><td>12.0</td></tr><tr><td>https://www.example.com/</td><td>Bahamas</td><td>11.0</td></tr><tr><td>https://www.example.com/products</td><td>Austria</td><td>1.0</td></tr><tr><td>https://www.example.com/faq</td><td>Burundi</td><td>7.0</td></tr><tr><td>https://www.example.com/services</td><td>Yemen</td><td>21.0</td></tr><tr><td>https://www.example.com/home</td><td>Northern Mariana Islands</td><td>12.0</td></tr><tr><td>https://www.example.com/contact</td><td>Japan</td><td>21.0</td></tr><tr><td>https://www.example.com/login</td><td>Puerto Rico</td><td>6.0</td></tr><tr><td>https://www.example.com/services</td><td>Puerto Rico</td><td>42.0</td></tr><tr><td>https://www.example.com/blog</td><td>Central African Republic</td><td>24.0</td></tr><tr><td>https://www.example.com/home</td><td>Serbia</td><td>4.0</td></tr><tr><td>https://www.example.com/blog</td><td>Cyprus</td><td>10.0</td></tr><tr><td>https://www.example.com/blog</td><td>Reunion</td><td>11.0</td></tr><tr><td>https://www.example.com/services</td><td>Austria</td><td>6.0</td></tr><tr><td>https://www.example.com/services</td><td>Liechtenstein</td><td>18.0</td></tr><tr><td>https://www.example.com/pricing</td><td>Taiwan</td><td>27.0</td></tr><tr><td>https://www.example.com/products</td><td>Ireland</td><td>16.0</td></tr><tr><td>https://www.example.com/about</td><td>Burundi</td><td>2.0</td></tr><tr><td>https://www.example.com/</td><td>Japan</td><td>6.0</td></tr><tr><td>https://www.example.com/home</td><td>Austria</td><td>10.0</td></tr><tr><td>https://www.example.com/faq</td><td>Croatia</td><td>2.0</td></tr><tr><td>https://www.example.com/services</td><td>Dominican Republic</td><td>9.0</td></tr><tr><td>https://www.example.com/services</td><td>Taiwan</td><td>3.0</td></tr><tr><td>https://www.example.com/services</td><td>Bosnia and Herzegovina</td><td>20.0</td></tr><tr><td>https://www.example.com/home</td><td>Taiwan</td><td>2.0</td></tr><tr><td>https://www.example.com/</td><td>Cameroon</td><td>7.0</td></tr><tr><td>https://www.example.com/contact</td><td>Bahamas</td><td>3.0</td></tr><tr><td>https://www.example.com/blog</td><td>Taiwan</td><td>10.0</td></tr><tr><td>https://www.example.com/</td><td>Cyprus</td><td>7.0</td></tr><tr><td>https://www.example.com/about</td><td>Iceland</td><td>1.0</td></tr><tr><td>https://www.example.com/contact</td><td>Serbia</td><td>11.0</td></tr><tr><td>https://www.example.com/home</td><td>Burundi</td><td>6.0</td></tr><tr><td>https://www.example.com/login</td><td>Libyan Arab Jamahiriya</td><td>1.0</td></tr><tr><td>https://www.example.com/pricing</td><td>Faroe Islands</td><td>7.0</td></tr><tr><td>https://www.example.com/contact</td><td>Bosnia and Herzegovina</td><td>8.0</td></tr><tr><td>https://www.example.com/home</td><td>Liberia</td><td>14.0</td></tr><tr><td>https://www.example.com/home</td><td>Cameroon</td><td>30.0</td></tr><tr><td>https://www.example.com/products</td><td>Estonia</td><td>2.0</td></tr><tr><td>https://www.example.com/faq</td><td>Guinea</td><td>4.0</td></tr><tr><td>https://www.example.com/about</td><td>Liberia</td><td>7.0</td></tr><tr><td>https://www.example.com/about</td><td>Estonia</td><td>3.0</td></tr><tr><td>https://www.example.com/about</td><td>San Marino</td><td>9.666666666666666</td></tr><tr><td>https://www.example.com/pricing</td><td>Austria</td><td>16.0</td></tr><tr><td>https://www.example.com/pricing</td><td>San Marino</td><td>3.0</td></tr><tr><td>https://www.example.com/home</td><td>Mauritius</td><td>2.0</td></tr><tr><td>https://www.example.com/pricing</td><td>Liberia</td><td>7.0</td></tr><tr><td>https://www.example.com/contact</td><td>Iceland</td><td>24.0</td></tr><tr><td>https://www.example.com/about</td><td>Northern Mariana Islands</td><td>4.0</td></tr><tr><td>https://www.example.com/blog</td><td>Mauritius</td><td>3.0</td></tr><tr><td>https://www.example.com/about</td><td>Norway</td><td>2.0</td></tr><tr><td>https://www.example.com/pricing</td><td>Burundi</td><td>20.0</td></tr><tr><td>https://www.example.com/</td><td>Dominican Republic</td><td>5.0</td></tr><tr><td>https://www.example.com/about</td><td>Cyprus</td><td>3.0</td></tr><tr><td>https://www.example.com/login</td><td>Iceland</td><td>26.0</td></tr><tr><td>https://www.example.com/contact</td><td>Jersey</td><td>6.0</td></tr><tr><td>https://www.example.com/products</td><td>Dominican Republic</td><td>3.0</td></tr><tr><td>https://www.example.com/faq</td><td>Estonia</td><td>1.0</td></tr><tr><td>https://www.example.com/about</td><td>Austria</td><td>9.0</td></tr></tbody></table></div>"
      ]
     },
     "metadata": {
      "application/vnd.databricks.v1+output": {
       "addedWidgets": {},
       "aggData": [],
       "aggError": "",
       "aggOverflow": false,
       "aggSchema": [],
       "aggSeriesLimitReached": false,
       "aggType": "",
       "arguments": {},
       "columnCustomDisplayInfos": {},
       "data": [
        [
         "https://www.example.com/faq",
         "Jersey",
         11.0
        ],
        [
         "https://www.example.com/faq",
         "French Polynesia",
         13.0
        ],
        [
         "https://www.example.com/faq",
         "Italy",
         17.0
        ],
        [
         "https://www.example.com/",
         "Serbia",
         3.0
        ],
        [
         "https://www.example.com/contact",
         "Austria",
         1.0
        ],
        [
         "https://www.example.com/",
         "Liberia",
         15.0
        ],
        [
         "https://www.example.com/",
         "Jersey",
         26.0
        ],
        [
         "https://www.example.com/contact",
         "Burundi",
         12.0
        ],
        [
         "https://www.example.com/",
         "Bahamas",
         11.0
        ],
        [
         "https://www.example.com/products",
         "Austria",
         1.0
        ],
        [
         "https://www.example.com/faq",
         "Burundi",
         7.0
        ],
        [
         "https://www.example.com/services",
         "Yemen",
         21.0
        ],
        [
         "https://www.example.com/home",
         "Northern Mariana Islands",
         12.0
        ],
        [
         "https://www.example.com/contact",
         "Japan",
         21.0
        ],
        [
         "https://www.example.com/login",
         "Puerto Rico",
         6.0
        ],
        [
         "https://www.example.com/services",
         "Puerto Rico",
         42.0
        ],
        [
         "https://www.example.com/blog",
         "Central African Republic",
         24.0
        ],
        [
         "https://www.example.com/home",
         "Serbia",
         4.0
        ],
        [
         "https://www.example.com/blog",
         "Cyprus",
         10.0
        ],
        [
         "https://www.example.com/blog",
         "Reunion",
         11.0
        ],
        [
         "https://www.example.com/services",
         "Austria",
         6.0
        ],
        [
         "https://www.example.com/services",
         "Liechtenstein",
         18.0
        ],
        [
         "https://www.example.com/pricing",
         "Taiwan",
         27.0
        ],
        [
         "https://www.example.com/products",
         "Ireland",
         16.0
        ],
        [
         "https://www.example.com/about",
         "Burundi",
         2.0
        ],
        [
         "https://www.example.com/",
         "Japan",
         6.0
        ],
        [
         "https://www.example.com/home",
         "Austria",
         10.0
        ],
        [
         "https://www.example.com/faq",
         "Croatia",
         2.0
        ],
        [
         "https://www.example.com/services",
         "Dominican Republic",
         9.0
        ],
        [
         "https://www.example.com/services",
         "Taiwan",
         3.0
        ],
        [
         "https://www.example.com/services",
         "Bosnia and Herzegovina",
         20.0
        ],
        [
         "https://www.example.com/home",
         "Taiwan",
         2.0
        ],
        [
         "https://www.example.com/",
         "Cameroon",
         7.0
        ],
        [
         "https://www.example.com/contact",
         "Bahamas",
         3.0
        ],
        [
         "https://www.example.com/blog",
         "Taiwan",
         10.0
        ],
        [
         "https://www.example.com/",
         "Cyprus",
         7.0
        ],
        [
         "https://www.example.com/about",
         "Iceland",
         1.0
        ],
        [
         "https://www.example.com/contact",
         "Serbia",
         11.0
        ],
        [
         "https://www.example.com/home",
         "Burundi",
         6.0
        ],
        [
         "https://www.example.com/login",
         "Libyan Arab Jamahiriya",
         1.0
        ],
        [
         "https://www.example.com/pricing",
         "Faroe Islands",
         7.0
        ],
        [
         "https://www.example.com/contact",
         "Bosnia and Herzegovina",
         8.0
        ],
        [
         "https://www.example.com/home",
         "Liberia",
         14.0
        ],
        [
         "https://www.example.com/home",
         "Cameroon",
         30.0
        ],
        [
         "https://www.example.com/products",
         "Estonia",
         2.0
        ],
        [
         "https://www.example.com/faq",
         "Guinea",
         4.0
        ],
        [
         "https://www.example.com/about",
         "Liberia",
         7.0
        ],
        [
         "https://www.example.com/about",
         "Estonia",
         3.0
        ],
        [
         "https://www.example.com/about",
         "San Marino",
         9.666666666666666
        ],
        [
         "https://www.example.com/pricing",
         "Austria",
         16.0
        ],
        [
         "https://www.example.com/pricing",
         "San Marino",
         3.0
        ],
        [
         "https://www.example.com/home",
         "Mauritius",
         2.0
        ],
        [
         "https://www.example.com/pricing",
         "Liberia",
         7.0
        ],
        [
         "https://www.example.com/contact",
         "Iceland",
         24.0
        ],
        [
         "https://www.example.com/about",
         "Northern Mariana Islands",
         4.0
        ],
        [
         "https://www.example.com/blog",
         "Mauritius",
         3.0
        ],
        [
         "https://www.example.com/about",
         "Norway",
         2.0
        ],
        [
         "https://www.example.com/pricing",
         "Burundi",
         20.0
        ],
        [
         "https://www.example.com/",
         "Dominican Republic",
         5.0
        ],
        [
         "https://www.example.com/about",
         "Cyprus",
         3.0
        ],
        [
         "https://www.example.com/login",
         "Iceland",
         26.0
        ],
        [
         "https://www.example.com/contact",
         "Jersey",
         6.0
        ],
        [
         "https://www.example.com/products",
         "Dominican Republic",
         3.0
        ],
        [
         "https://www.example.com/faq",
         "Estonia",
         1.0
        ],
        [
         "https://www.example.com/about",
         "Austria",
         9.0
        ]
       ],
       "datasetInfos": [],
       "dbfsResultPath": null,
       "isJsonSchema": true,
       "metadata": {},
       "overflow": false,
       "plotOptions": {
        "customPlotOptions": {},
        "displayType": "table",
        "pivotAggregation": null,
        "pivotColumns": null,
        "xColumns": null,
        "yColumns": null
       },
       "removedWidgets": [],
       "schema": [
        {
         "metadata": "{}",
         "name": "URL",
         "type": "\"string\""
        },
        {
         "metadata": "{}",
         "name": "country",
         "type": "\"string\""
        },
        {
         "metadata": "{}",
         "name": "average_time_spent",
         "type": "\"double\""
        }
       ],
       "type": "table"
      }
     },
     "output_type": "display_data"
    }
   ],
   "source": [
    "from pyspark.sql import Window\n",
    "# Define the window specification to partition by user_id and order by timestamp\n",
    "window_spec = Window.partitionBy(\"user_id\").orderBy(\"timestamp\")\n",
    "\n",
    "\n",
    "# Calculating the time spent on each URL by subtracting the current timestamp from the next one\n",
    "time_spent_df = df.select(\"user_id\" , \"timestamp\" ,\"country\" ,\"url\").withColumn(\"next_timestamp\", F.lead(\"timestamp\").over(window_spec))\n",
    "time_spent_df = time_spent_df.withColumn(\"time_spent_in_seconds\", (F.col(\"next_timestamp\").cast(\"long\") - F.col(\"timestamp\").cast(\"long\")))\n",
    "\n",
    "time_spent_df = time_spent_df.dropna(subset=[\"time_spent_in_seconds\"])\n",
    "# Aggregating data by url and country to get average time\n",
    "time_spent_df = time_spent_df.groupBy(\"URL\" , \"country\").agg(F.avg(\"time_spent_in_seconds\").alias(\"average_time_spent\"))\n",
    "display(time_spent_df)\n"
   ]
  },
  {
   "cell_type": "markdown",
   "metadata": {
    "application/vnd.databricks.v1+cell": {
     "cellMetadata": {
      "byteLimit": 2048000,
      "rowLimit": 10000
     },
     "inputWidgets": {},
     "nuid": "e4e0e355-dcc8-4349-a210-9061fa50529c",
     "showTitle": false,
     "title": ""
    }
   },
   "source": [
    "### Final Processed Data"
   ]
  },
  {
   "cell_type": "code",
   "execution_count": 0,
   "metadata": {
    "application/vnd.databricks.v1+cell": {
     "cellMetadata": {
      "byteLimit": 2048000,
      "rowLimit": 10000
     },
     "inputWidgets": {},
     "nuid": "ab23479e-6859-40fc-80e7-3d3bb620743d",
     "showTitle": false,
     "title": ""
    }
   },
   "outputs": [
    {
     "output_type": "display_data",
     "data": {
      "text/html": [
       "<style scoped>\n",
       "  .table-result-container {\n",
       "    max-height: 300px;\n",
       "    overflow: auto;\n",
       "  }\n",
       "  table, th, td {\n",
       "    border: 1px solid black;\n",
       "    border-collapse: collapse;\n",
       "  }\n",
       "  th, td {\n",
       "    padding: 5px;\n",
       "  }\n",
       "  th {\n",
       "    text-align: left;\n",
       "  }\n",
       "</style><div class='table-result-container'><table class='table-result'><thead style='background-color: white'><tr><th>URL</th><th>country</th><th>unique_user_count</th><th>average_time_spent</th></tr></thead><tbody><tr><td>https://www.example.com/faq</td><td>Jersey</td><td>1</td><td>11.0</td></tr><tr><td>https://www.example.com/faq</td><td>French Polynesia</td><td>1</td><td>13.0</td></tr><tr><td>https://www.example.com/faq</td><td>Italy</td><td>1</td><td>17.0</td></tr><tr><td>https://www.example.com/</td><td>Serbia</td><td>1</td><td>3.0</td></tr><tr><td>https://www.example.com/contact</td><td>Austria</td><td>1</td><td>1.0</td></tr><tr><td>https://www.example.com/</td><td>Liberia</td><td>1</td><td>15.0</td></tr><tr><td>https://www.example.com/</td><td>Jersey</td><td>2</td><td>26.0</td></tr><tr><td>https://www.example.com/contact</td><td>Burundi</td><td>1</td><td>12.0</td></tr><tr><td>https://www.example.com/</td><td>Bahamas</td><td>1</td><td>11.0</td></tr><tr><td>https://www.example.com/products</td><td>Austria</td><td>1</td><td>1.0</td></tr><tr><td>https://www.example.com/faq</td><td>Burundi</td><td>1</td><td>7.0</td></tr><tr><td>https://www.example.com/services</td><td>Yemen</td><td>1</td><td>21.0</td></tr><tr><td>https://www.example.com/home</td><td>Northern Mariana Islands</td><td>1</td><td>12.0</td></tr><tr><td>https://www.example.com/contact</td><td>Japan</td><td>1</td><td>21.0</td></tr><tr><td>https://www.example.com/login</td><td>Puerto Rico</td><td>1</td><td>6.0</td></tr><tr><td>https://www.example.com/services</td><td>Puerto Rico</td><td>1</td><td>42.0</td></tr><tr><td>https://www.example.com/blog</td><td>Central African Republic</td><td>1</td><td>24.0</td></tr><tr><td>https://www.example.com/home</td><td>Serbia</td><td>1</td><td>4.0</td></tr><tr><td>https://www.example.com/blog</td><td>Cyprus</td><td>1</td><td>10.0</td></tr><tr><td>https://www.example.com/blog</td><td>Reunion</td><td>1</td><td>11.0</td></tr><tr><td>https://www.example.com/services</td><td>Austria</td><td>1</td><td>6.0</td></tr><tr><td>https://www.example.com/services</td><td>Liechtenstein</td><td>1</td><td>18.0</td></tr><tr><td>https://www.example.com/pricing</td><td>Taiwan</td><td>1</td><td>27.0</td></tr><tr><td>https://www.example.com/products</td><td>Ireland</td><td>1</td><td>16.0</td></tr><tr><td>https://www.example.com/about</td><td>Burundi</td><td>1</td><td>2.0</td></tr><tr><td>https://www.example.com/</td><td>Japan</td><td>1</td><td>6.0</td></tr><tr><td>https://www.example.com/home</td><td>Austria</td><td>1</td><td>10.0</td></tr><tr><td>https://www.example.com/faq</td><td>Croatia</td><td>1</td><td>2.0</td></tr><tr><td>https://www.example.com/services</td><td>Dominican Republic</td><td>1</td><td>9.0</td></tr><tr><td>https://www.example.com/services</td><td>Taiwan</td><td>1</td><td>3.0</td></tr><tr><td>https://www.example.com/services</td><td>Bosnia and Herzegovina</td><td>1</td><td>20.0</td></tr><tr><td>https://www.example.com/home</td><td>Taiwan</td><td>1</td><td>2.0</td></tr><tr><td>https://www.example.com/</td><td>Cameroon</td><td>1</td><td>7.0</td></tr><tr><td>https://www.example.com/contact</td><td>Bahamas</td><td>1</td><td>3.0</td></tr><tr><td>https://www.example.com/blog</td><td>Taiwan</td><td>1</td><td>10.0</td></tr><tr><td>https://www.example.com/</td><td>Cyprus</td><td>1</td><td>7.0</td></tr><tr><td>https://www.example.com/about</td><td>Iceland</td><td>1</td><td>1.0</td></tr><tr><td>https://www.example.com/contact</td><td>Serbia</td><td>1</td><td>11.0</td></tr><tr><td>https://www.example.com/home</td><td>Burundi</td><td>1</td><td>6.0</td></tr><tr><td>https://www.example.com/login</td><td>Libyan Arab Jamahiriya</td><td>1</td><td>1.0</td></tr><tr><td>https://www.example.com/pricing</td><td>Faroe Islands</td><td>1</td><td>7.0</td></tr><tr><td>https://www.example.com/contact</td><td>Bosnia and Herzegovina</td><td>1</td><td>8.0</td></tr><tr><td>https://www.example.com/home</td><td>Cameroon</td><td>1</td><td>30.0</td></tr><tr><td>https://www.example.com/home</td><td>Liberia</td><td>1</td><td>14.0</td></tr><tr><td>https://www.example.com/products</td><td>Estonia</td><td>1</td><td>2.0</td></tr><tr><td>https://www.example.com/faq</td><td>Guinea</td><td>1</td><td>4.0</td></tr><tr><td>https://www.example.com/about</td><td>Liberia</td><td>1</td><td>7.0</td></tr><tr><td>https://www.example.com/about</td><td>Estonia</td><td>1</td><td>3.0</td></tr><tr><td>https://www.example.com/about</td><td>San Marino</td><td>1</td><td>9.666666666666666</td></tr><tr><td>https://www.example.com/pricing</td><td>Austria</td><td>1</td><td>16.0</td></tr><tr><td>https://www.example.com/pricing</td><td>San Marino</td><td>1</td><td>3.0</td></tr><tr><td>https://www.example.com/home</td><td>Mauritius</td><td>1</td><td>2.0</td></tr><tr><td>https://www.example.com/pricing</td><td>Liberia</td><td>1</td><td>7.0</td></tr><tr><td>https://www.example.com/contact</td><td>Iceland</td><td>1</td><td>24.0</td></tr><tr><td>https://www.example.com/about</td><td>Northern Mariana Islands</td><td>1</td><td>4.0</td></tr><tr><td>https://www.example.com/blog</td><td>Mauritius</td><td>1</td><td>3.0</td></tr><tr><td>https://www.example.com/about</td><td>Norway</td><td>1</td><td>2.0</td></tr><tr><td>https://www.example.com/pricing</td><td>Burundi</td><td>1</td><td>20.0</td></tr><tr><td>https://www.example.com/</td><td>Dominican Republic</td><td>1</td><td>5.0</td></tr><tr><td>https://www.example.com/about</td><td>Cyprus</td><td>1</td><td>3.0</td></tr><tr><td>https://www.example.com/login</td><td>Iceland</td><td>1</td><td>26.0</td></tr><tr><td>https://www.example.com/contact</td><td>Jersey</td><td>2</td><td>6.0</td></tr><tr><td>https://www.example.com/products</td><td>Dominican Republic</td><td>1</td><td>3.0</td></tr><tr><td>https://www.example.com/faq</td><td>Estonia</td><td>1</td><td>1.0</td></tr><tr><td>https://www.example.com/about</td><td>Austria</td><td>1</td><td>9.0</td></tr></tbody></table></div>"
      ]
     },
     "metadata": {
      "application/vnd.databricks.v1+output": {
       "addedWidgets": {},
       "aggData": [],
       "aggError": "",
       "aggOverflow": false,
       "aggSchema": [],
       "aggSeriesLimitReached": false,
       "aggType": "",
       "arguments": {},
       "columnCustomDisplayInfos": {},
       "data": [
        [
         "https://www.example.com/faq",
         "Jersey",
         1,
         11.0
        ],
        [
         "https://www.example.com/faq",
         "French Polynesia",
         1,
         13.0
        ],
        [
         "https://www.example.com/faq",
         "Italy",
         1,
         17.0
        ],
        [
         "https://www.example.com/",
         "Serbia",
         1,
         3.0
        ],
        [
         "https://www.example.com/contact",
         "Austria",
         1,
         1.0
        ],
        [
         "https://www.example.com/",
         "Liberia",
         1,
         15.0
        ],
        [
         "https://www.example.com/",
         "Jersey",
         2,
         26.0
        ],
        [
         "https://www.example.com/contact",
         "Burundi",
         1,
         12.0
        ],
        [
         "https://www.example.com/",
         "Bahamas",
         1,
         11.0
        ],
        [
         "https://www.example.com/products",
         "Austria",
         1,
         1.0
        ],
        [
         "https://www.example.com/faq",
         "Burundi",
         1,
         7.0
        ],
        [
         "https://www.example.com/services",
         "Yemen",
         1,
         21.0
        ],
        [
         "https://www.example.com/home",
         "Northern Mariana Islands",
         1,
         12.0
        ],
        [
         "https://www.example.com/contact",
         "Japan",
         1,
         21.0
        ],
        [
         "https://www.example.com/login",
         "Puerto Rico",
         1,
         6.0
        ],
        [
         "https://www.example.com/services",
         "Puerto Rico",
         1,
         42.0
        ],
        [
         "https://www.example.com/blog",
         "Central African Republic",
         1,
         24.0
        ],
        [
         "https://www.example.com/home",
         "Serbia",
         1,
         4.0
        ],
        [
         "https://www.example.com/blog",
         "Cyprus",
         1,
         10.0
        ],
        [
         "https://www.example.com/blog",
         "Reunion",
         1,
         11.0
        ],
        [
         "https://www.example.com/services",
         "Austria",
         1,
         6.0
        ],
        [
         "https://www.example.com/services",
         "Liechtenstein",
         1,
         18.0
        ],
        [
         "https://www.example.com/pricing",
         "Taiwan",
         1,
         27.0
        ],
        [
         "https://www.example.com/products",
         "Ireland",
         1,
         16.0
        ],
        [
         "https://www.example.com/about",
         "Burundi",
         1,
         2.0
        ],
        [
         "https://www.example.com/",
         "Japan",
         1,
         6.0
        ],
        [
         "https://www.example.com/home",
         "Austria",
         1,
         10.0
        ],
        [
         "https://www.example.com/faq",
         "Croatia",
         1,
         2.0
        ],
        [
         "https://www.example.com/services",
         "Dominican Republic",
         1,
         9.0
        ],
        [
         "https://www.example.com/services",
         "Taiwan",
         1,
         3.0
        ],
        [
         "https://www.example.com/services",
         "Bosnia and Herzegovina",
         1,
         20.0
        ],
        [
         "https://www.example.com/home",
         "Taiwan",
         1,
         2.0
        ],
        [
         "https://www.example.com/",
         "Cameroon",
         1,
         7.0
        ],
        [
         "https://www.example.com/contact",
         "Bahamas",
         1,
         3.0
        ],
        [
         "https://www.example.com/blog",
         "Taiwan",
         1,
         10.0
        ],
        [
         "https://www.example.com/",
         "Cyprus",
         1,
         7.0
        ],
        [
         "https://www.example.com/about",
         "Iceland",
         1,
         1.0
        ],
        [
         "https://www.example.com/contact",
         "Serbia",
         1,
         11.0
        ],
        [
         "https://www.example.com/home",
         "Burundi",
         1,
         6.0
        ],
        [
         "https://www.example.com/login",
         "Libyan Arab Jamahiriya",
         1,
         1.0
        ],
        [
         "https://www.example.com/pricing",
         "Faroe Islands",
         1,
         7.0
        ],
        [
         "https://www.example.com/contact",
         "Bosnia and Herzegovina",
         1,
         8.0
        ],
        [
         "https://www.example.com/home",
         "Cameroon",
         1,
         30.0
        ],
        [
         "https://www.example.com/home",
         "Liberia",
         1,
         14.0
        ],
        [
         "https://www.example.com/products",
         "Estonia",
         1,
         2.0
        ],
        [
         "https://www.example.com/faq",
         "Guinea",
         1,
         4.0
        ],
        [
         "https://www.example.com/about",
         "Liberia",
         1,
         7.0
        ],
        [
         "https://www.example.com/about",
         "Estonia",
         1,
         3.0
        ],
        [
         "https://www.example.com/about",
         "San Marino",
         1,
         9.666666666666666
        ],
        [
         "https://www.example.com/pricing",
         "Austria",
         1,
         16.0
        ],
        [
         "https://www.example.com/pricing",
         "San Marino",
         1,
         3.0
        ],
        [
         "https://www.example.com/home",
         "Mauritius",
         1,
         2.0
        ],
        [
         "https://www.example.com/pricing",
         "Liberia",
         1,
         7.0
        ],
        [
         "https://www.example.com/contact",
         "Iceland",
         1,
         24.0
        ],
        [
         "https://www.example.com/about",
         "Northern Mariana Islands",
         1,
         4.0
        ],
        [
         "https://www.example.com/blog",
         "Mauritius",
         1,
         3.0
        ],
        [
         "https://www.example.com/about",
         "Norway",
         1,
         2.0
        ],
        [
         "https://www.example.com/pricing",
         "Burundi",
         1,
         20.0
        ],
        [
         "https://www.example.com/",
         "Dominican Republic",
         1,
         5.0
        ],
        [
         "https://www.example.com/about",
         "Cyprus",
         1,
         3.0
        ],
        [
         "https://www.example.com/login",
         "Iceland",
         1,
         26.0
        ],
        [
         "https://www.example.com/contact",
         "Jersey",
         2,
         6.0
        ],
        [
         "https://www.example.com/products",
         "Dominican Republic",
         1,
         3.0
        ],
        [
         "https://www.example.com/faq",
         "Estonia",
         1,
         1.0
        ],
        [
         "https://www.example.com/about",
         "Austria",
         1,
         9.0
        ]
       ],
       "datasetInfos": [],
       "dbfsResultPath": null,
       "isJsonSchema": true,
       "metadata": {},
       "overflow": false,
       "plotOptions": {
        "customPlotOptions": {},
        "displayType": "table",
        "pivotAggregation": null,
        "pivotColumns": null,
        "xColumns": null,
        "yColumns": null
       },
       "removedWidgets": [],
       "schema": [
        {
         "metadata": "{}",
         "name": "URL",
         "type": "\"string\""
        },
        {
         "metadata": "{}",
         "name": "country",
         "type": "\"string\""
        },
        {
         "metadata": "{}",
         "name": "unique_user_count",
         "type": "\"long\""
        },
        {
         "metadata": "{}",
         "name": "average_time_spent",
         "type": "\"double\""
        }
       ],
       "type": "table"
      }
     },
     "output_type": "display_data"
    }
   ],
   "source": [
    "final_df = unique_user_df.join(time_spent_df, on=[\"URL\" , \"country\"])\n",
    "display(final_df)"
   ]
  },
  {
   "cell_type": "markdown",
   "metadata": {
    "application/vnd.databricks.v1+cell": {
     "cellMetadata": {
      "byteLimit": 2048000,
      "rowLimit": 10000
     },
     "inputWidgets": {},
     "nuid": "59432e7d-fecc-4dde-9f23-354fbf516e29",
     "showTitle": false,
     "title": ""
    }
   },
   "source": [
    "### Insert data to Elastic Search"
   ]
  },
  {
   "cell_type": "code",
   "execution_count": 0,
   "metadata": {
    "application/vnd.databricks.v1+cell": {
     "cellMetadata": {
      "byteLimit": 2048000,
      "rowLimit": 10000
     },
     "inputWidgets": {},
     "nuid": "e440d794-ef9b-4717-8ae7-c35e434c17d6",
     "showTitle": false,
     "title": ""
    }
   },
   "outputs": [
    {
     "output_type": "display_data",
     "data": {
      "application/vnd.databricks.v1+bamboolib_hint": "{\"pd.DataFrames\": [], \"version\": \"0.0.1\"}",
      "text/plain": []
     },
     "metadata": {},
     "output_type": "display_data"
    },
    {
     "output_type": "stream",
     "name": "stderr",
     "output_type": "stream",
     "text": [
      "<command-4116241839801994>:5: DeprecationWarning: The 'http_auth' parameter is deprecated. Use 'basic_auth' or 'bearer_auth' parameters instead\n  es = Elasticsearch(\n<command-4116241839801994>:29: DeprecationWarning: The 'body' parameter is deprecated and will be removed in a future version. Instead use individual parameters.\n  es.indices.create(index=index_name, body=mapping)\n"
     ]
    },
    {
     "output_type": "stream",
     "name": "stdout",
     "output_type": "stream",
     "text": [
      "Out[7]: (65, [])"
     ]
    }
   ],
   "source": [
    "from elasticsearch import Elasticsearch\n",
    "from elasticsearch.helpers import bulk\n",
    "import pandas as pd\n",
    "# Connect to Elasticsearch\n",
    "es = Elasticsearch(\n",
    "    cloud_id=\"cloud_id\",\n",
    "    http_auth=(\"elastic\", \"pass\")\n",
    ")\n",
    "processed_data_pd = final_df.toPandas()\n",
    "processed_data  = processed_data_pd.to_dict(orient=\"records\")\n",
    "\n",
    "\n",
    "# Define Elasticsearch index mapping\n",
    "index_name = \"clickstream_data_index\"\n",
    "\n",
    "mapping = {\n",
    "    \"mappings\": {\n",
    "        \"properties\": {\n",
    "            \"URL\": {\"type\": \"keyword\"},\n",
    "            \"country\": {\"type\": \"keyword\"},\n",
    "            \"unique_users\": {\"type\": \"integer\"},\n",
    "            \"avg_time_spent\": {\"type\": \"float\"}\n",
    "        }\n",
    "    }\n",
    "}\n",
    "\n",
    "# Create the index with the defined mapping\n",
    "try:\n",
    "    es.indices.create(index=index_name, body=mapping)\n",
    "except:\n",
    "    pass\n",
    "\n",
    "# Bulk index the processed data into Elasticsearch\n",
    "bulk_data = [\n",
    "    {\n",
    "        \"_index\": index_name,\n",
    "        \"_source\": entry\n",
    "    }\n",
    "    for entry in processed_data\n",
    "]\n",
    "\n",
    "bulk(es, bulk_data)\n",
    "\n",
    "\n"
   ]
  },
  {
   "cell_type": "code",
   "execution_count": 0,
   "metadata": {
    "application/vnd.databricks.v1+cell": {
     "cellMetadata": {},
     "inputWidgets": {},
     "nuid": "a786c8f1-defd-411a-be33-7b21edfa4e52",
     "showTitle": false,
     "title": ""
    }
   },
   "outputs": [],
   "source": []
  }
 ],
 "metadata": {
  "application/vnd.databricks.v1+notebook": {
   "dashboards": [],
   "language": "python",
   "notebookMetadata": {
    "mostRecentlyExecutedCommandWithImplicitDF": {
     "commandId": -1,
     "dataframes": [
      "_sqldf"
     ]
    },
    "pythonIndentUnit": 4
   },
   "notebookName": "clicksstream_spark",
   "widgets": {}
  }
 },
 "nbformat": 4,
 "nbformat_minor": 0
}
